{
 "cells": [
  {
   "cell_type": "code",
   "execution_count": 1,
   "metadata": {},
   "outputs": [],
   "source": [
    "import numpy as np\n",
    "from gensim.models import Word2Vec\n",
    "from sklearn.manifold import TSNE\n",
    "import matplotlib.pyplot as plt"
   ]
  },
  {
   "cell_type": "code",
   "execution_count": 2,
   "metadata": {},
   "outputs": [],
   "source": [
    "f = open('preprocessed_tweetVaccine.csv', 'r', encoding='utf8')\n",
    "text = f.read()\n",
    "t_list = text.split('\\n')\n",
    "\n",
    "corpus = []\n",
    "\n",
    "for cumle in t_list:\n",
    "    corpus.append(cumle.split())"
   ]
  },
  {
   "cell_type": "code",
   "execution_count": 3,
   "metadata": {},
   "outputs": [
    {
     "name": "stdout",
     "output_type": "stream",
     "text": [
      "[['0,australia', 'manufacture', 'covid19', 'vaccine', 'and', 'give', 'the', 'citizens', 'for', 'free', 'cost', 'afp', 'quotes', 'prime', 'minister', 'covidvaccine,0.4,0.4,Positive'], ['1,coronavirusvaccine', 'coronavaccine', 'covidvaccine', 'australia', 'doing', 'very', 'good', 'httpstcokbt7l6pary,0.9099999999999999,0.9099999999999999,Positive'], ['2,deaths', 'due', 'covid19', 'affected', 'countries', 'read', 'more', 'httpstcov8y3stu0uw', 'rpiryani', 'shitalbhandary…', 'httpstco6jpmxx2kti,0.1875,0.1875,Positive'], ['3,teamsubhashree', 'subhashreesotwe', 'iamrajchoco', 'stay', 'safe', 'subhashreesotwe', 'amp', 'iamrajchoco', 'httpstcoayhoaqm0ls,0.5,0.5,Positive'], ['4,michellegrattan', 'conversationedu', 'this', 'what', 'passes', 'for', 'leadership', 'our', 'country', 'voucher', 'for', 'something', 'that', 'httpstcoouub1peyij,0.0,0.0,Neutral'], ['5,the', 'multisystem', 'inflammatory', 'syndromechildren', 'misc', 'covid19', 'atypical', 'kawasaki', 'disease', 'covid19india', 'the…', 'httpstco98wj2cekez,0.0,0.0,Neutral'], ['6,privilrodrigues', 'yatish57', 'deepkaranahuja', 'shristi522', 'amrita33392520', 'rashmisriniva14', 'akashrk88', 'sjanaqa…', 'httpstcovpla11fwfr,0.0,0.0,Neutral'], ['7,msnbc', 'well', 'let’s', 'qualify', 'that', 'would', 'anyone', 'any', 'party', 'get', 'vaccine', 'rushed', 'out', 'and', 'minimally', 'tested', 'coming', 'from', 'russia', 'covidvaccine,-0.1,-0.1,Negative'], ['8,most', 'countries', 'without', 'the', 'ability', 'make', 'vaccines', 'locally', 'will', 'forced', 'rely', 'others', 'like', 'the', 'china…', 'httpstcoqucozlb4ru,0.06666666666666665,0.06666666666666665,Positive']]\n"
     ]
    }
   ],
   "source": [
    "print(corpus[1:10]) #ilk 10 cumlenin yer almasi"
   ]
  },
  {
   "cell_type": "code",
   "execution_count": 4,
   "metadata": {},
   "outputs": [],
   "source": [
    "model = Word2Vec(corpus, size=100, window=5, min_count=5, sg=1) #skip-gram algoritması "
   ]
  },
  {
   "cell_type": "code",
   "execution_count": 5,
   "metadata": {},
   "outputs": [
    {
     "data": {
      "text/plain": [
       "array([-0.47482258,  0.08737701,  0.17786033,  0.29953086, -0.3845503 ,\n",
       "        0.3409365 , -0.03069172, -0.22794059, -0.40317094, -0.12424254,\n",
       "       -0.05455149,  0.18067633,  0.1941096 ,  0.13816305, -0.19776066,\n",
       "       -0.5196879 , -0.16907106,  0.07082212, -0.07717429, -0.09066432,\n",
       "       -0.01130381,  0.05615587, -0.509204  , -0.11415835, -0.0340662 ,\n",
       "        0.02040755,  0.16272621, -0.2912831 , -0.00948863, -0.20731403,\n",
       "        0.13919921, -0.3439636 , -0.0603489 , -0.28999856, -0.18002053,\n",
       "       -0.3185814 , -0.1630035 , -0.16584614, -0.254834  ,  0.10906099,\n",
       "       -0.2879937 , -0.02089917,  0.09810813,  0.25488493, -0.11800666,\n",
       "        0.38434765,  0.25871632, -0.04231483,  0.80662686,  0.36647615,\n",
       "       -0.24369271, -0.21506456,  0.0683043 , -0.13834898, -0.2139016 ,\n",
       "       -0.17692111, -0.2526085 ,  0.2958281 ,  0.34393838, -0.13136967,\n",
       "        0.30993113,  0.0177253 , -0.18266895,  0.26293465, -0.18239951,\n",
       "       -0.02674599, -0.16653673, -0.5248033 ,  0.22320503, -0.03211006,\n",
       "        0.13052873, -0.25287187, -0.16844372, -0.064899  , -0.3998166 ,\n",
       "       -0.17384894,  0.129585  ,  0.0837462 ,  0.48630443, -0.16499828,\n",
       "       -0.22825445, -0.07095939, -0.20897068, -0.2568608 , -0.26021186,\n",
       "        0.16073167,  0.06158416, -0.12082032, -0.07625433, -0.6971952 ,\n",
       "        0.05955565, -0.11998115, -0.16253313,  0.23888661, -0.01452905,\n",
       "        0.261791  ,  0.11079467,  0.13839135,  0.27596143,  0.09862275],\n",
       "      dtype=float32)"
      ]
     },
     "execution_count": 5,
     "metadata": {},
     "output_type": "execute_result"
    }
   ],
   "source": [
    "model.wv['vaccine']"
   ]
  },
  {
   "cell_type": "code",
   "execution_count": 14,
   "metadata": {},
   "outputs": [
    {
     "data": {
      "text/plain": [
       "[('modernatx', 0.906326174736023),\n",
       " ('biontech', 0.8938841819763184),\n",
       " ('biontechgroup', 0.8863573670387268),\n",
       " ('pfizer', 0.8809235095977783),\n",
       " ('efficacy', 0.8672481775283813),\n",
       " ('german', 0.8561813831329346),\n",
       " ('pfizervaccine', 0.8472538590431213),\n",
       " ('effectiveness', 0.8468074798583984),\n",
       " ('mrna', 0.8362420797348022),\n",
       " ('modernavaccine', 0.8348397016525269)]"
      ]
     },
     "execution_count": 14,
     "metadata": {},
     "output_type": "execute_result"
    }
   ],
   "source": [
    "model.wv.most_similar('moderna')"
   ]
  },
  {
   "cell_type": "code",
   "execution_count": 15,
   "metadata": {},
   "outputs": [],
   "source": [
    "model.save('word2vec.model')"
   ]
  },
  {
   "cell_type": "code",
   "execution_count": 16,
   "metadata": {},
   "outputs": [],
   "source": [
    "model = Word2Vec.load('word2vec.model')"
   ]
  },
  {
   "cell_type": "code",
   "execution_count": 17,
   "metadata": {},
   "outputs": [],
   "source": [
    "def closestwords_tsneplot(model, word):\n",
    "    word_vectors = np.empty((0,100))\n",
    "    word_labels = [word]\n",
    "    \n",
    "    close_words = model.wv.most_similar(word)\n",
    "    \n",
    "    word_vectors = np.append(word_vectors, np.array([model.wv[word]]), axis=0)\n",
    "    \n",
    "    for w, _ in close_words:\n",
    "        word_labels.append(w)\n",
    "        word_vectors = np.append(word_vectors, np.array([model.wv[w]]), axis=0)\n",
    "        \n",
    "    tsne = TSNE(random_state=0)\n",
    "    Y = tsne.fit_transform(word_vectors)\n",
    "    \n",
    "    x_coords = Y[:, 0]\n",
    "    y_coords = Y[:, 1]\n",
    "    \n",
    "    plt.scatter(x_coords, y_coords)\n",
    "    \n",
    "    for label, x, y in zip(word_labels, x_coords, y_coords):\n",
    "        plt.annotate(label, xy=(x, y), xytext=(5, -2), textcoords='offset points')\n",
    "        \n",
    "    plt.show()"
   ]
  },
  {
   "cell_type": "code",
   "execution_count": 18,
   "metadata": {},
   "outputs": [
    {
     "data": {
      "image/png": "[encoded data removed]",
      "text/plain": [
       "<Figure size 432x288 with 1 Axes>"
      ]
     },
     "metadata": {
      "needs_background": "light"
     },
     "output_type": "display_data"
    }
   ],
   "source": [
    "closestwords_tsneplot(model, 'take')"
   ]
  },
  {
   "cell_type": "code",
   "execution_count": 19,
   "metadata": {},
   "outputs": [
    {
     "data": {
      "image/png": "[encoded data removed]",
      "text/plain": [
       "<Figure size 432x288 with 1 Axes>"
      ]
     },
     "metadata": {
      "needs_background": "light"
     },
     "output_type": "display_data"
    }
   ],
   "source": [
    "closestwords_tsneplot(model, 'moderna')"
   ]
  },
  {
   "cell_type": "code",
   "execution_count": null,
   "metadata": {},
   "outputs": [],
   "source": []
  }
 ],
 "metadata": {
  "kernelspec": {
   "display_name": "Python 3",
   "language": "python",
   "name": "python3"
  },
  "language_info": {
   "codemirror_mode": {
    "name": "ipython",
    "version": 3
   },
   "file_extension": ".py",
   "mimetype": "text/x-python",
   "name": "python",
   "nbconvert_exporter": "python",
   "pygments_lexer": "ipython3",
   "version": "3.7.9"
  }
 },
 "nbformat": 4,
 "nbformat_minor": 2
}
