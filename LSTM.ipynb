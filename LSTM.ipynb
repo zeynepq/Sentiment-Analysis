{
 "cells": [
  {
   "cell_type": "code",
   "execution_count": 1,
   "metadata": {},
   "outputs": [
    {
     "name": "stderr",
     "output_type": "stream",
     "text": [
      "Using TensorFlow backend.\n"
     ]
    }
   ],
   "source": [
    "import pandas as pd\n",
    "import numpy as np #vektorler uzerinde islem yapmak icin\n",
    "\n",
    "from sklearn.preprocessing import LabelEncoder\n",
    "from sklearn.model_selection import train_test_split\n",
    "from sklearn.metrics import classification_report,accuracy_score, f1_score, precision_score,recall_score\n",
    "from sklearn import preprocessing\n",
    "from sklearn.feature_extraction.text import TfidfVectorizer\n",
    "\n",
    "import pydot\n",
    "import matplotlib.pyplot as plt\n",
    "import os\n",
    "import re\n",
    "import shutil\n",
    "import string\n",
    "import tensorflow as tf\n",
    "from tensorflow.keras import regularizers\n",
    "from tensorflow.keras.metrics import AUC\n",
    "from tensorflow.keras import layers\n",
    "from tensorflow.keras import losses\n",
    "\n",
    "from collections import Counter\n",
    "\n",
    "from tensorflow.keras import preprocessing\n",
    "\n",
    "from tensorflow.keras.initializers import Constant\n",
    "from tensorflow.keras.callbacks import EarlyStopping\n",
    "from tensorflow.keras.optimizers import Adam\n",
    "#from tensorflow.keras.preprocessing.text import Tokenizer\n",
    "from keras.preprocessing.text import Tokenizer\n",
    "from tensorflow.keras.preprocessing.sequence import pad_sequences\n",
    "from keras.models import Sequential\n",
    "\n",
    "\n",
    "from nltk.tokenize import sent_tokenize, word_tokenize\n",
    "from sklearn import metrics #accuracy \n",
    "from sklearn.multiclass import OneVsRestClassifier\n",
    "from keras.layers import Dense\n",
    "from keras.layers import LSTM\n",
    "from keras.layers import Dropout"
   ]
  },
  {
   "cell_type": "code",
   "execution_count": 2,
   "metadata": {},
   "outputs": [
    {
     "data": {
      "text/html": [
       "<div>\n",
       "<style scoped>\n",
       "    .dataframe tbody tr th:only-of-type {\n",
       "        vertical-align: middle;\n",
       "    }\n",
       "\n",
       "    .dataframe tbody tr th {\n",
       "        vertical-align: top;\n",
       "    }\n",
       "\n",
       "    .dataframe thead th {\n",
       "        text-align: right;\n",
       "    }\n",
       "</style>\n",
       "<table border=\"1\" class=\"dataframe\">\n",
       "  <thead>\n",
       "    <tr style=\"text-align: right;\">\n",
       "      <th></th>\n",
       "      <th>Unnamed: 0</th>\n",
       "      <th>text</th>\n",
       "      <th>Subjectivity</th>\n",
       "      <th>Polarity</th>\n",
       "      <th>Analysis</th>\n",
       "    </tr>\n",
       "  </thead>\n",
       "  <tbody>\n",
       "    <tr>\n",
       "      <th>0</th>\n",
       "      <td>0</td>\n",
       "      <td>australia manufacture covid19 vaccine and give...</td>\n",
       "      <td>0.4000</td>\n",
       "      <td>0.4000</td>\n",
       "      <td>Positive</td>\n",
       "    </tr>\n",
       "    <tr>\n",
       "      <th>1</th>\n",
       "      <td>1</td>\n",
       "      <td>coronavirusvaccine coronavaccine covidvaccine ...</td>\n",
       "      <td>0.9100</td>\n",
       "      <td>0.9100</td>\n",
       "      <td>Positive</td>\n",
       "    </tr>\n",
       "    <tr>\n",
       "      <th>2</th>\n",
       "      <td>2</td>\n",
       "      <td>deaths due covid19 affected countries read mor...</td>\n",
       "      <td>0.1875</td>\n",
       "      <td>0.1875</td>\n",
       "      <td>Positive</td>\n",
       "    </tr>\n",
       "    <tr>\n",
       "      <th>3</th>\n",
       "      <td>3</td>\n",
       "      <td>teamsubhashree subhashreesotwe iamrajchoco sta...</td>\n",
       "      <td>0.5000</td>\n",
       "      <td>0.5000</td>\n",
       "      <td>Positive</td>\n",
       "    </tr>\n",
       "    <tr>\n",
       "      <th>4</th>\n",
       "      <td>4</td>\n",
       "      <td>michellegrattan conversationedu this what pass...</td>\n",
       "      <td>0.0000</td>\n",
       "      <td>0.0000</td>\n",
       "      <td>Neutral</td>\n",
       "    </tr>\n",
       "  </tbody>\n",
       "</table>\n",
       "</div>"
      ],
      "text/plain": [
       "   Unnamed: 0                                               text  \\\n",
       "0           0  australia manufacture covid19 vaccine and give...   \n",
       "1           1  coronavirusvaccine coronavaccine covidvaccine ...   \n",
       "2           2  deaths due covid19 affected countries read mor...   \n",
       "3           3  teamsubhashree subhashreesotwe iamrajchoco sta...   \n",
       "4           4  michellegrattan conversationedu this what pass...   \n",
       "\n",
       "   Subjectivity  Polarity  Analysis  \n",
       "0        0.4000    0.4000  Positive  \n",
       "1        0.9100    0.9100  Positive  \n",
       "2        0.1875    0.1875  Positive  \n",
       "3        0.5000    0.5000  Positive  \n",
       "4        0.0000    0.0000   Neutral  "
      ]
     },
     "execution_count": 2,
     "metadata": {},
     "output_type": "execute_result"
    }
   ],
   "source": [
    "train_df = pd.read_csv(\"preprocessed_tweetVaccine.csv\")\n",
    "train_df.head()"
   ]
  },
  {
   "cell_type": "code",
   "execution_count": 3,
   "metadata": {},
   "outputs": [],
   "source": [
    "train_df['word_counter'] = train_df['text'].apply(lambda x:len(str(x).split()))"
   ]
  },
  {
   "cell_type": "code",
   "execution_count": 4,
   "metadata": {},
   "outputs": [
    {
     "name": "stdout",
     "output_type": "stream",
     "text": [
      "Training data:\n",
      "Positive    9711\n",
      "Neutral     9511\n",
      "Negative    2717\n",
      "Name: Analysis, dtype: int64\n",
      "toplam text: 21939\n"
     ]
    }
   ],
   "source": [
    "print('Training data:')\n",
    "print(train_df['Analysis'].value_counts())\n",
    "print('toplam text:', len(train_df))\n",
    "\n",
    "max_train_sentence_length = train_df['word_counter'].max()"
   ]
  },
  {
   "cell_type": "code",
   "execution_count": 5,
   "metadata": {},
   "outputs": [],
   "source": [
    "tokenizer = Tokenizer(num_words = 20000, oov_token=\"<UKN>\")\n",
    "tokenizer.fit_on_texts(train_df['text'].values.astype(str).tolist()) #metin listesine dayalı olarak dahili kelimeleri günceller"
   ]
  },
  {
   "cell_type": "code",
   "execution_count": 9,
   "metadata": {},
   "outputs": [],
   "source": [
    "X_train, X_test, y_train, y_test = train_test_split(train_df['text'], train_df['Analysis'], test_size=0.3,random_state=1)"
   ]
  },
  {
   "cell_type": "code",
   "execution_count": 10,
   "metadata": {},
   "outputs": [],
   "source": [
    "x_train = np.array(tokenizer.texts_to_sequences(X_train.values.astype(str)))\n",
    "x_test = np.array(tokenizer.texts_to_sequences(X_test.values.astype(str))) #Metinlerdeki her metni bir tam sayı dizisine dönüştürür"
   ]
  },
  {
   "cell_type": "code",
   "execution_count": 11,
   "metadata": {
    "scrolled": true
   },
   "outputs": [],
   "source": [
    "x_train = pad_sequences(x_train, padding='post',maxlen=250)\n",
    "x_test = pad_sequences(x_test, padding='post',maxlen=250)\n",
    "\n",
    "leb = LabelEncoder()\n",
    "train_label = leb.fit_transform(y_train)\n",
    "train_label = np.array(tf.keras.utils.to_categorical(train_label))\n",
    "\n",
    "test_label = leb.fit_transform(y_test)\n",
    "test_label = np.array(tf.keras.utils.to_categorical(test_label))\n",
    "\n",
    "#list(leb.classes_)"
   ]
  },
  {
   "cell_type": "code",
   "execution_count": null,
   "metadata": {},
   "outputs": [],
   "source": [
    "\n"
   ]
  },
  {
   "cell_type": "code",
   "execution_count": 12,
   "metadata": {},
   "outputs": [
    {
     "name": "stdout",
     "output_type": "stream",
     "text": [
      "WARNING:tensorflow:From C:\\Users\\zynps\\anaconda3\\envs\\deeplearning\\lib\\site-packages\\tensorflow\\python\\keras\\initializers.py:119: calling RandomUniform.__init__ (from tensorflow.python.ops.init_ops) with dtype is deprecated and will be removed in a future version.\n",
      "Instructions for updating:\n",
      "Call initializer instance with the dtype argument instead of passing it to the constructor\n",
      "WARNING:tensorflow:From C:\\Users\\zynps\\anaconda3\\envs\\deeplearning\\lib\\site-packages\\tensorflow\\python\\ops\\init_ops.py:1251: calling VarianceScaling.__init__ (from tensorflow.python.ops.init_ops) with dtype is deprecated and will be removed in a future version.\n",
      "Instructions for updating:\n",
      "Call initializer instance with the dtype argument instead of passing it to the constructor\n",
      "Model: \"sequential\"\n",
      "_________________________________________________________________\n",
      "Layer (type)                 Output Shape              Param #   \n",
      "=================================================================\n",
      "embedding (Embedding)        (None, 250, 60)           1500000   \n",
      "_________________________________________________________________\n",
      "lstm (LSTM)                  (None, 250, 60)           29040     \n",
      "_________________________________________________________________\n",
      "flatten (Flatten)            (None, 15000)             0         \n",
      "_________________________________________________________________\n",
      "dense (Dense)                (None, 250)               3750250   \n",
      "_________________________________________________________________\n",
      "dropout (Dropout)            (None, 250)               0         \n",
      "_________________________________________________________________\n",
      "dense_1 (Dense)              (None, 10)                2510      \n",
      "_________________________________________________________________\n",
      "dropout_1 (Dropout)          (None, 10)                0         \n",
      "_________________________________________________________________\n",
      "dense_2 (Dense)              (None, 3)                 33        \n",
      "=================================================================\n",
      "Total params: 5,281,833\n",
      "Trainable params: 5,281,833\n",
      "Non-trainable params: 0\n",
      "_________________________________________________________________\n"
     ]
    }
   ],
   "source": [
    "\n",
    "from keras.layers import Activation, Flatten\n",
    "max_features = 25000\n",
    "embedding_dim = 60\n",
    "sequence_length = 250\n",
    " \n",
    "model = tf.keras.Sequential()\n",
    "\n",
    "model.add(tf.keras.layers.Embedding(max_features, embedding_dim, \\\n",
    "                                    input_length=sequence_length, embeddings_regularizer = regularizers.l2(0.005)))\n",
    "\n",
    "model.add(tf.keras.layers.LSTM(embedding_dim, dropout=0.2, recurrent_dropout=0.2, return_sequences=True,\\\n",
    "                                   kernel_regularizer = regularizers.l2(0.005), bias_regularizer=regularizers.l2(0.005)))\n",
    "                                   \n",
    "\n",
    "model.add(tf.keras.layers.Flatten())\n",
    "\n",
    "model.add(tf.keras.layers.Dense(250, activation='relu',kernel_regularizer = regularizers.l2(0.001), bias_regularizer=regularizers.l2(0.001),))\n",
    "model.add(tf.keras.layers.Dropout(0.3))\n",
    "\n",
    "model.add(tf.keras.layers.Dense(10, activation='relu',kernel_regularizer = regularizers.l2(0.001), bias_regularizer=regularizers.l2(0.001)))\n",
    "model.add(tf.keras.layers.Dropout(0.3))\n",
    "\n",
    "model.add(tf.keras.layers.Dense(3, activation='softmax',kernel_regularizer = regularizers.l2(0.001), bias_regularizer=regularizers.l2(0.001)))\n",
    "\n",
    "model.summary()\n",
    "model.compile(loss=tf.keras.losses.CategoricalCrossentropy(), optimizer=tf.keras.optimizers.Adam(1e-3), metrics=['CategoricalAccuracy', AUC(name='auc')])"
   ]
  },
  {
   "cell_type": "code",
   "execution_count": 13,
   "metadata": {
    "scrolled": true
   },
   "outputs": [
    {
     "name": "stdout",
     "output_type": "stream",
     "text": [
      "Train on 15357 samples, validate on 6582 samples\n",
      "WARNING:tensorflow:From C:\\Users\\zynps\\anaconda3\\envs\\deeplearning\\lib\\site-packages\\tensorflow\\python\\ops\\math_grad.py:1250: add_dispatch_support.<locals>.wrapper (from tensorflow.python.ops.array_ops) is deprecated and will be removed in a future version.\n",
      "Instructions for updating:\n",
      "Use tf.where in 2.0, which has the same broadcast rule as np.where\n",
      "Epoch 1/10\n",
      "15357/15357 - 90s - loss: 1.4774 - categorical_accuracy: 0.6281 - auc: 0.8076 - val_loss: 0.9696 - val_categorical_accuracy: 0.7908 - val_auc: 0.9089\n",
      "Epoch 2/10\n",
      "15357/15357 - 88s - loss: 0.9131 - categorical_accuracy: 0.7931 - auc: 0.9112 - val_loss: 0.8323 - val_categorical_accuracy: 0.8072 - val_auc: 0.9274\n",
      "Epoch 3/10\n",
      "15357/15357 - 88s - loss: 0.7928 - categorical_accuracy: 0.8185 - auc: 0.9295 - val_loss: 0.7032 - val_categorical_accuracy: 0.8339 - val_auc: 0.9419\n",
      "Epoch 4/10\n",
      "15357/15357 - 87s - loss: 0.6962 - categorical_accuracy: 0.8315 - auc: 0.9431 - val_loss: 0.6716 - val_categorical_accuracy: 0.8367 - val_auc: 0.9476\n",
      "Epoch 5/10\n",
      "15357/15357 - 87s - loss: 0.6558 - categorical_accuracy: 0.8382 - auc: 0.9490 - val_loss: 0.6801 - val_categorical_accuracy: 0.8421 - val_auc: 0.9444\n",
      "Epoch 6/10\n",
      "15357/15357 - 88s - loss: 0.6354 - categorical_accuracy: 0.8407 - auc: 0.9521 - val_loss: 0.6287 - val_categorical_accuracy: 0.8497 - val_auc: 0.9511\n",
      "Epoch 7/10\n",
      "15357/15357 - 87s - loss: 0.6294 - categorical_accuracy: 0.8422 - auc: 0.9530 - val_loss: 0.6220 - val_categorical_accuracy: 0.8443 - val_auc: 0.9561\n",
      "Epoch 8/10\n",
      "15357/15357 - 87s - loss: 0.5881 - categorical_accuracy: 0.8472 - auc: 0.9592 - val_loss: 0.5956 - val_categorical_accuracy: 0.8519 - val_auc: 0.9565\n",
      "Epoch 9/10\n",
      "15357/15357 - 88s - loss: 0.5747 - categorical_accuracy: 0.8487 - auc: 0.9611 - val_loss: 0.5988 - val_categorical_accuracy: 0.8496 - val_auc: 0.9557\n",
      "Epoch 10/10\n",
      "15357/15357 - 92s - loss: 0.5740 - categorical_accuracy: 0.8571 - auc: 0.9619 - val_loss: 0.6077 - val_categorical_accuracy: 0.8593 - val_auc: 0.9597\n"
     ]
    }
   ],
   "source": [
    "epochs = 10\n",
    "\n",
    "history = model.fit(x_train, train_label, epochs = epochs, validation_data = (x_test, test_label), verbose = 2)"
   ]
  },
  {
   "cell_type": "code",
   "execution_count": 11,
   "metadata": {},
   "outputs": [
    {
     "name": "stdout",
     "output_type": "stream",
     "text": [
      "Train on 17551 samples, validate on 4388 samples\n",
      "WARNING:tensorflow:From C:\\Users\\zynps\\anaconda3\\envs\\deeplearning\\lib\\site-packages\\tensorflow\\python\\ops\\math_grad.py:1250: add_dispatch_support.<locals>.wrapper (from tensorflow.python.ops.array_ops) is deprecated and will be removed in a future version.\n",
      "Instructions for updating:\n",
      "Use tf.where in 2.0, which has the same broadcast rule as np.where\n",
      "Epoch 1/10\n",
      "17551/17551 [==============================] - 103s 6ms/sample - loss: 1.4314 - categorical_accuracy: 0.4369 - auc: 0.6542 - val_loss: 1.0831 - val_categorical_accuracy: 0.4387 - val_auc: 0.6500\n",
      "Epoch 2/10\n",
      "17551/17551 [==============================] - 103s 6ms/sample - loss: 1.0359 - categorical_accuracy: 0.4362 - auc: 0.6573 - val_loss: 1.0069 - val_categorical_accuracy: 0.4328 - val_auc: 0.6563\n",
      "Epoch 3/10\n",
      "17551/17551 [==============================] - 107s 6ms/sample - loss: 0.9927 - categorical_accuracy: 0.4399 - auc: 0.6584 - val_loss: 0.9916 - val_categorical_accuracy: 0.4328 - val_auc: 0.6521\n",
      "Epoch 4/10\n",
      "17551/17551 [==============================] - 107s 6ms/sample - loss: 0.9852 - categorical_accuracy: 0.4432 - auc: 0.6566 - val_loss: 0.9899 - val_categorical_accuracy: 0.4328 - val_auc: 0.6521\n",
      "Epoch 5/10\n",
      "17551/17551 [==============================] - 106s 6ms/sample - loss: 0.9837 - categorical_accuracy: 0.4424 - auc: 0.6575 - val_loss: 0.9895 - val_categorical_accuracy: 0.4328 - val_auc: 0.6521\n",
      "Epoch 6/10\n",
      "17551/17551 [==============================] - 106s 6ms/sample - loss: 0.9827 - categorical_accuracy: 0.4454 - auc: 0.6601 - val_loss: 0.9894 - val_categorical_accuracy: 0.4328 - val_auc: 0.6521\n",
      "Epoch 7/10\n",
      "17551/17551 [==============================] - 107s 6ms/sample - loss: 0.9824 - categorical_accuracy: 0.4448 - auc: 0.6600 - val_loss: 0.9893 - val_categorical_accuracy: 0.4328 - val_auc: 0.6521\n",
      "Epoch 8/10\n",
      "17551/17551 [==============================] - 106s 6ms/sample - loss: 0.9822 - categorical_accuracy: 0.4432 - auc: 0.6594 - val_loss: 0.9894 - val_categorical_accuracy: 0.4328 - val_auc: 0.6521\n",
      "Epoch 9/10\n",
      "17551/17551 [==============================] - 107s 6ms/sample - loss: 0.9818 - categorical_accuracy: 0.4451 - auc: 0.6607 - val_loss: 0.9892 - val_categorical_accuracy: 0.4328 - val_auc: 0.6521\n",
      "Epoch 10/10\n",
      "17551/17551 [==============================] - 107s 6ms/sample - loss: 0.9818 - categorical_accuracy: 0.4436 - auc: 0.6600 - val_loss: 0.9893 - val_categorical_accuracy: 0.4328 - val_auc: 0.6521\n"
     ]
    }
   ],
   "source": [
    "epochs = 7\n",
    "\n",
    "history = model.fit(x_train, train_label, epochs = epochs, validation_data = (x_test, test_label), verbose = 1)"
   ]
  },
  {
   "cell_type": "code",
   "execution_count": 14,
   "metadata": {},
   "outputs": [
    {
     "data": {
      "image/png": "[encoded data removed]",
      "text/plain": [
       "<Figure size 432x288 with 1 Axes>"
      ]
     },
     "metadata": {
      "needs_background": "light"
     },
     "output_type": "display_data"
    }
   ],
   "source": [
    "plt.plot(history.history['loss'], label = 'TD')\n",
    "plt.plot(history.history['val_loss'], label = 'VD')\n",
    "plt.title('Metin sınıflama-loss')\n",
    "plt.xlabel('Epoch')\n",
    "plt.ylabel('Loss')\n",
    "plt.legend(loc='upper left')\n",
    "plt.show()"
   ]
  },
  {
   "cell_type": "code",
   "execution_count": 15,
   "metadata": {},
   "outputs": [
    {
     "data": {
      "image/png": "[encoded data removed]",
      "text/plain": [
       "<Figure size 432x288 with 1 Axes>"
      ]
     },
     "metadata": {
      "needs_background": "light"
     },
     "output_type": "display_data"
    }
   ],
   "source": [
    "plt.plot(history.history['auc'], label = 'T.Accuracy')\n",
    "plt.plot(history.history['val_auc'], label = 'V.Accuracy')\n",
    "plt.title('Accuracy')\n",
    "plt.xlabel('Epoch sayısı')\n",
    "plt.ylabel('AUC')\n",
    "plt.legend(loc='upper left')\n",
    "plt.show()"
   ]
  },
  {
   "cell_type": "code",
   "execution_count": null,
   "metadata": {},
   "outputs": [],
   "source": []
  }
 ],
 "metadata": {
  "kernelspec": {
   "display_name": "Python 3",
   "language": "python",
   "name": "python3"
  },
  "language_info": {
   "codemirror_mode": {
    "name": "ipython",
    "version": 3
   },
   "file_extension": ".py",
   "mimetype": "text/x-python",
   "name": "python",
   "nbconvert_exporter": "python",
   "pygments_lexer": "ipython3",
   "version": "3.7.9"
  }
 },
 "nbformat": 4,
 "nbformat_minor": 4
}
